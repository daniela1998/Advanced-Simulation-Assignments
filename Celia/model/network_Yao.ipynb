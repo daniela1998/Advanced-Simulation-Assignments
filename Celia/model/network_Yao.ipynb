{
 "cells": [
  {
   "metadata": {},
   "cell_type": "code",
   "outputs": [],
   "execution_count": null,
   "source": [
    "import pandas as pd\n",
    "import networkx as nx\n",
    "import matplotlib.pyplot as plt\n",
    "import random\n"
   ],
   "id": "22df72a2cc6201b"
  },
  {
   "metadata": {},
   "cell_type": "code",
   "outputs": [],
   "execution_count": null,
   "source": [
    "# import data from file\n",
    "road = pd.read_csv('data/demo-4.csv')"
   ],
   "id": "c41fc28505b701e1"
  },
  {
   "metadata": {},
   "cell_type": "code",
   "outputs": [],
   "execution_count": null,
   "source": "road.head()",
   "id": "5556358a4b5792bd"
  },
  {
   "metadata": {},
   "cell_type": "code",
   "outputs": [],
   "execution_count": null,
   "source": [
    "def find_shortest_path_from_sourcesink(df):\n",
    "    \"\"\"\n",
    "    Finds and visualizes the shortest path between two randomly selected 'sourcesink' nodes in a given road network.\n",
    " \n",
    "    \"\"\"\n",
    "    # Create a directed graph\n",
    "    G = nx.Graph()\n",
    "\n",
    "    # Add nodes: Each road segment (lat, lon) becomes a node\n",
    "    for _, row in df.iterrows():\n",
    "        G.add_node(row['id'], pos=(row['lon'], row['lat']), model_type=row['model_type'])\n",
    "\n",
    "    # Add edges based on road connectivity\n",
    "    for i in range(len(df) - 1):\n",
    "        if df.loc[i, 'road'] == df.loc[i + 1, 'road']:  # Ensure edges are within the same road\n",
    "            G.add_edge(df.loc[i, 'id'], df.loc[i + 1, 'id'], weight=df.loc[i, 'length'])\n",
    "\n",
    "    # Extract node positions for visualization\n",
    "    pos = nx.get_node_attributes(G, 'pos')\n",
    "\n",
    "    # Filter for nodes where 'model_type' is 'sourcesink'\n",
    "    sourcesink_nodes = df[df['model_type'] == 'sourcesink']['id'].tolist()\n",
    "\n",
    "    # Randomly select two distinct sourcesink nodes\n",
    "    if len(sourcesink_nodes) >= 2:\n",
    "        source, sink = random.sample(sourcesink_nodes, 2)  # Pick two distinct nodes\n",
    "    else:\n",
    "        print(\"Not enough 'sourcesink' nodes available for shortest path calculation.\")\n",
    "        return\n",
    "\n",
    "    # Compute the shortest path using road length as weight\n",
    "    shortest_path = nx.shortest_path(G, source, sink, weight='weight')\n",
    "\n",
    "    # Draw the full network\n",
    "    plt.figure(figsize=(10, 7))\n",
    "    nx.draw(G, pos, with_labels=True, node_color='orange', edge_color='gray', node_size=500, font_size=8)\n",
    "\n",
    "    # Highlight the shortest path\n",
    "    path_edges = list(zip(shortest_path, shortest_path[1:]))  # Convert path nodes into edges\n",
    "    nx.draw_networkx_edges(G, pos, edgelist=path_edges, edge_color='red', width=2)\n",
    "\n",
    "    # Show edge labels (road segment lengths)\n",
    "    edge_labels = nx.get_edge_attributes(G, 'weight')\n",
    "    nx.draw_networkx_edge_labels(G, pos, edge_labels=edge_labels, font_size=7)\n",
    "\n",
    "    # Display the graph\n",
    "    plt.title(f\"Shortest Path from {source} to {sink}\")\n",
    "    plt.show()\n",
    "\n",
    "    # Print the shortest path\n",
    "    print(f\"Shortest path from {source} to {sink}: {shortest_path}\")\n",
    "\n",
    "\n"
   ],
   "id": "e58bd766e66a1c17"
  },
  {
   "metadata": {},
   "cell_type": "code",
   "outputs": [],
   "execution_count": null,
   "source": "find_shortest_path_from_sourcesink(road)",
   "id": "56ffa128d6fc19f1"
  }
 ],
 "metadata": {},
 "nbformat": 5,
 "nbformat_minor": 9
}
