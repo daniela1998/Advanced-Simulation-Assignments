{
 "cells": [
  {
   "metadata": {
    "ExecuteTime": {
     "end_time": "2025-02-12T11:40:53.743571Z",
     "start_time": "2025-02-12T11:40:53.737997Z"
    }
   },
   "cell_type": "code",
   "source": "import mesa",
   "id": "42bf640d874057a2",
   "outputs": [],
   "execution_count": 11
  },
  {
   "metadata": {
    "ExecuteTime": {
     "end_time": "2025-02-12T11:35:43.877274Z",
     "start_time": "2025-02-12T11:35:43.871221Z"
    }
   },
   "cell_type": "code",
   "source": "print(\"aaa\")",
   "id": "6c9691fe5c76d545",
   "outputs": [
    {
     "name": "stdout",
     "output_type": "stream",
     "text": [
      "aaa\n"
     ]
    }
   ],
   "execution_count": 3
  },
  {
   "metadata": {
    "ExecuteTime": {
     "end_time": "2025-02-12T11:41:47.231535Z",
     "start_time": "2025-02-12T11:41:47.223560Z"
    }
   },
   "cell_type": "code",
   "source": [
    "import sys\n",
    "print(sys.version)"
   ],
   "id": "e816c2964e03fea1",
   "outputs": [
    {
     "name": "stdout",
     "output_type": "stream",
     "text": [
      "3.11.7 | packaged by Anaconda, Inc. | (main, Dec 15 2023, 18:05:47) [MSC v.1916 64 bit (AMD64)]\n"
     ]
    }
   ],
   "execution_count": 12
  },
  {
   "metadata": {},
   "cell_type": "code",
   "outputs": [],
   "execution_count": null,
   "source": "",
   "id": "32528eec4e250098"
  }
 ],
 "metadata": {
  "kernelspec": {
   "name": "python3",
   "language": "python",
   "display_name": "Python 3 (ipykernel)"
  }
 },
 "nbformat": 5,
 "nbformat_minor": 9
}
