{
 "cells": [
  {
   "cell_type": "code",
   "execution_count": 1,
   "id": "42bf640d874057a2",
   "metadata": {
    "ExecuteTime": {
     "end_time": "2025-02-12T11:40:53.743571Z",
     "start_time": "2025-02-12T11:40:53.737997Z"
    }
   },
   "outputs": [
    {
     "ename": "ModuleNotFoundError",
     "evalue": "No module named 'mesa'",
     "output_type": "error",
     "traceback": [
      "\u001b[1;31m---------------------------------------------------------------------------\u001b[0m",
      "\u001b[1;31mModuleNotFoundError\u001b[0m                       Traceback (most recent call last)",
      "Cell \u001b[1;32mIn[1], line 1\u001b[0m\n\u001b[1;32m----> 1\u001b[0m \u001b[38;5;28;01mimport\u001b[39;00m \u001b[38;5;21;01mmesa\u001b[39;00m\n",
      "\u001b[1;31mModuleNotFoundError\u001b[0m: No module named 'mesa'"
     ]
    }
   ],
   "source": [
    "import mesa"
   ]
  },
  {
   "cell_type": "code",
   "execution_count": 2,
   "id": "6c9691fe5c76d545",
   "metadata": {
    "ExecuteTime": {
     "end_time": "2025-02-12T11:35:43.877274Z",
     "start_time": "2025-02-12T11:35:43.871221Z"
    }
   },
   "outputs": [
    {
     "name": "stdout",
     "output_type": "stream",
     "text": [
      "aaa\n"
     ]
    }
   ],
   "source": [
    "print(\"aaa\")"
   ]
  },
  {
   "cell_type": "code",
   "execution_count": 3,
   "id": "e816c2964e03fea1",
   "metadata": {
    "ExecuteTime": {
     "end_time": "2025-02-12T11:41:47.231535Z",
     "start_time": "2025-02-12T11:41:47.223560Z"
    }
   },
   "outputs": [
    {
     "name": "stdout",
     "output_type": "stream",
     "text": [
      "3.10.15 | packaged by conda-forge | (main, Oct 16 2024, 01:15:49) [MSC v.1941 64 bit (AMD64)]\n"
     ]
    }
   ],
   "source": [
    "import sys\n",
    "print(sys.version)"
   ]
  },
  {
   "cell_type": "code",
   "execution_count": 4,
   "id": "7bc68841",
   "metadata": {},
   "outputs": [
    {
     "name": "stdout",
     "output_type": "stream",
     "text": [
      "bbb\n"
     ]
    }
   ],
   "source": [
    "print(\"bbb\")"
   ]
  },
  {
   "cell_type": "code",
   "execution_count": null,
   "id": "0264f9b8",
   "metadata": {},
   "outputs": [],
   "source": []
  }
 ],
 "metadata": {
  "kernelspec": {
   "display_name": "gds24",
   "language": "python",
   "name": "python3"
  },
  "language_info": {
   "codemirror_mode": {
    "name": "ipython",
    "version": 3
   },
   "file_extension": ".py",
   "mimetype": "text/x-python",
   "name": "python",
   "nbconvert_exporter": "python",
   "pygments_lexer": "ipython3",
   "version": "3.10.15"
  }
 },
 "nbformat": 5,
 "nbformat_minor": 9
}
