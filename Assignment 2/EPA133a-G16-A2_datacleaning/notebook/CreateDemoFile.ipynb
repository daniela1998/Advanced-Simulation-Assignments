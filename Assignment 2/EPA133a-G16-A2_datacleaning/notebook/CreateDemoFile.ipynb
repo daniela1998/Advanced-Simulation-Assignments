{
 "cells": [
  {
   "cell_type": "markdown",
   "metadata": {},
   "source": [
    "# G16 Code for creating demo data"
   ]
  },
  {
   "cell_type": "markdown",
   "metadata": {},
   "source": [
    "## 0. Load data"
   ]
  },
  {
   "cell_type": "code",
   "execution_count": 19,
   "metadata": {},
   "outputs": [
    {
     "name": "stdout",
     "output_type": "stream",
     "text": [
      "c:\\Users\\Move\\anaconda3\\envs\\epa133a\n"
     ]
    }
   ],
   "source": [
    "import pandas as pd\n",
    "import numpy as np\n",
    "import sys\n",
    "print(sys.prefix)"
   ]
  },
  {
   "cell_type": "code",
   "execution_count": 20,
   "metadata": {},
   "outputs": [],
   "source": [
    "# import data\n",
    "dir = '../data/raw/'\n",
    "filename = 'BMMS_overview.xlsx'\n",
    "df_bridges = pd.read_excel(dir + filename)"
   ]
  },
  {
   "cell_type": "code",
   "execution_count": 21,
   "metadata": {},
   "outputs": [],
   "source": [
    "#df_bridges.head()"
   ]
  },
  {
   "cell_type": "code",
   "execution_count": 22,
   "metadata": {},
   "outputs": [],
   "source": [
    "# import data\n",
    "dir = '../data/raw/'\n",
    "filename = '_roads3.csv' # replace this with the interpolated data\n",
    "df_roads = pd.read_csv(dir + filename)"
   ]
  },
  {
   "cell_type": "code",
   "execution_count": 23,
   "metadata": {},
   "outputs": [],
   "source": [
    "#df_roads.head()"
   ]
  },
  {
   "cell_type": "code",
   "execution_count": 24,
   "metadata": {},
   "outputs": [
    {
     "name": "stdout",
     "output_type": "stream",
     "text": [
      "(20415, 20)\n",
      "(51348, 8)\n"
     ]
    }
   ],
   "source": [
    "# print shape of dataframes\n",
    "print(df_bridges.shape)\n",
    "print(df_roads.shape)"
   ]
  },
  {
   "cell_type": "markdown",
   "metadata": {},
   "source": [
    "## 1. Remove duplicates from BMMS_overview.xlsx and _roads3.csv"
   ]
  },
  {
   "cell_type": "code",
   "execution_count": null,
   "metadata": {},
   "outputs": [],
   "source": []
  },
  {
   "cell_type": "markdown",
   "metadata": {},
   "source": [
    "## 2. Combine data from BMMS_overview.xlsx & _roads3.csv"
   ]
  },
  {
   "cell_type": "code",
   "execution_count": 25,
   "metadata": {},
   "outputs": [],
   "source": [
    "# change the column names of the bridges dataframe: LRPName -> lrp\n",
    "df_bridges.rename(columns={'LRPName': 'lrp'}, inplace=True)\n"
   ]
  },
  {
   "cell_type": "code",
   "execution_count": 26,
   "metadata": {},
   "outputs": [],
   "source": [
    "# add a column named 'model_type' to the df_bridges dataframe and fill it with 'bridge'\n",
    "df_bridges['model_type'] = 'bridge'\n",
    "\n",
    "# add a column named 'model_type' to the df_roads dataframe and fill it with 'link';\n",
    "# but if the last character in the column 'lrp' isn't number, fill it with 'bridge', except for 'S' and 'E'\n",
    "df_roads['model_type'] = 'link'\n",
    "df_roads.loc[df_roads['lrp'].str[-1].str.isnumeric() == False, 'model_type'] = 'bridge'\n",
    "df_roads.loc[df_roads['lrp'].str[-1] == 'S', 'model_type'] = 'link'\n",
    "df_roads.loc[df_roads['lrp'].str[-1] == 'E', 'model_type'] = 'link'\n"
   ]
  },
  {
   "cell_type": "code",
   "execution_count": 27,
   "metadata": {},
   "outputs": [],
   "source": [
    "#df_roads"
   ]
  },
  {
   "cell_type": "code",
   "execution_count": 28,
   "metadata": {},
   "outputs": [],
   "source": [
    "# make a copy of the df_bridges dataframe and name it df_bridges_original\n",
    "df_bridges_original = df_bridges.copy()\n",
    "\n",
    "# merge the df_bridges and df_roads dataframes\n",
    "df_concat = pd.concat([df_bridges, df_roads])"
   ]
  },
  {
   "cell_type": "code",
   "execution_count": 29,
   "metadata": {},
   "outputs": [],
   "source": [
    "#df_concat.head()"
   ]
  },
  {
   "cell_type": "code",
   "execution_count": 30,
   "metadata": {},
   "outputs": [],
   "source": [
    "# sort the df_concat dataframe, groupedby 'road', by 'chainage'\n",
    "df_concat = df_concat.sort_values(by=['road', 'chainage'])"
   ]
  },
  {
   "cell_type": "code",
   "execution_count": 31,
   "metadata": {},
   "outputs": [],
   "source": [
    "#df_concat.head()"
   ]
  },
  {
   "cell_type": "markdown",
   "metadata": {},
   "source": [
    "## 3. Build the demo dataframe"
   ]
  },
  {
   "cell_type": "code",
   "execution_count": 32,
   "metadata": {},
   "outputs": [],
   "source": [
    "# if the 'model_type' is 'bridge' and the 'condition' is NaN, drop the row; Keep the rows with 'model_type' as 'link'\n",
    "df_concat = df_concat[~((df_concat['model_type'] == 'bridge') & (df_concat['condition'].isna())) | (df_concat['model_type'] == 'link')]"
   ]
  },
  {
   "cell_type": "code",
   "execution_count": 33,
   "metadata": {},
   "outputs": [],
   "source": [
    "# Initialize an empty list to store the rows of the new DataFrame\n",
    "new_rows = []\n",
    "\n",
    "# Iterate over each unique road in df_concat\n",
    "for road in df_concat['road'].unique():\n",
    "    road_rows = df_concat[df_concat['road'] == road].reset_index(drop=True)\n",
    "    for i, row in road_rows.iterrows():\n",
    "        if i == 0:\n",
    "            model_type = 'source'\n",
    "        elif i == len(road_rows) - 1:\n",
    "            model_type = 'sink'\n",
    "        else:\n",
    "            model_type = row['model_type']\n",
    "        \n",
    "        length = 0 if i == 0 else row['chainage'] - road_rows.loc[i-1, 'chainage']\n",
    "        new_row = {\n",
    "            'road': row['road'],\n",
    "            'id': f\"{row['road']}_{i}\",\n",
    "            'model_type': model_type,\n",
    "            'name': row['name'],\n",
    "            'lat': row['lat'],\n",
    "            'lon': row['lon'],\n",
    "            'length': length,\n",
    "            'condition': row['condition']\n",
    "        }\n",
    "        new_rows.append(new_row)\n",
    "\n",
    "# Convert the list to a DataFrame\n",
    "df_demo = pd.DataFrame(new_rows)"
   ]
  },
  {
   "cell_type": "code",
   "execution_count": 34,
   "metadata": {},
   "outputs": [],
   "source": [
    "#df_demo.head()"
   ]
  },
  {
   "cell_type": "code",
   "execution_count": 35,
   "metadata": {},
   "outputs": [
    {
     "name": "stdout",
     "output_type": "stream",
     "text": [
      "(41657, 8)\n"
     ]
    }
   ],
   "source": [
    "# print shape of df_demo\n",
    "print(df_demo.shape)"
   ]
  },
  {
   "cell_type": "markdown",
   "metadata": {},
   "source": [
    "## 4. Save demo file as a csv"
   ]
  },
  {
   "cell_type": "code",
   "execution_count": 36,
   "metadata": {},
   "outputs": [],
   "source": [
    "# save the df_demo dataframe to a csv file\n",
    "dir = '../data/processed/'\n",
    "filename = 'demo_100.csv'\n",
    "df_demo.to_csv(dir + filename, index=False)"
   ]
  }
 ],
 "metadata": {
  "kernelspec": {
   "display_name": "epa133a",
   "language": "python",
   "name": "python3"
  },
  "language_info": {
   "codemirror_mode": {
    "name": "ipython",
    "version": 3
   },
   "file_extension": ".py",
   "mimetype": "text/x-python",
   "name": "python",
   "nbconvert_exporter": "python",
   "pygments_lexer": "ipython3",
   "version": "3.10.15"
  }
 },
 "nbformat": 4,
 "nbformat_minor": 2
}
